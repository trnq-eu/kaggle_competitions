{
 "cells": [
  {
   "cell_type": "code",
   "execution_count": 1,
   "id": "b3cbc41b",
   "metadata": {
    "_cell_guid": "b1076dfc-b9ad-4769-8c92-a6c4dae69d19",
    "_uuid": "8f2839f25d086af736a60e9eeb907d3b93b6e0e5",
    "execution": {
     "iopub.execute_input": "2023-11-10T04:53:03.379761Z",
     "iopub.status.busy": "2023-11-10T04:53:03.379411Z",
     "iopub.status.idle": "2023-11-10T04:53:04.167656Z",
     "shell.execute_reply": "2023-11-10T04:53:04.165475Z"
    },
    "papermill": {
     "duration": 0.799475,
     "end_time": "2023-11-10T04:53:04.170104",
     "exception": false,
     "start_time": "2023-11-10T04:53:03.370629",
     "status": "completed"
    },
    "tags": []
   },
   "outputs": [
    {
     "name": "stdout",
     "output_type": "stream",
     "text": [
      "/kaggle/input/titanic/train.csv\n",
      "/kaggle/input/titanic/test.csv\n",
      "/kaggle/input/titanic/gender_submission.csv\n"
     ]
    }
   ],
   "source": [
    "# This Python 3 environment comes with many helpful analytics libraries installed\n",
    "# It is defined by the kaggle/python Docker image: https://github.com/kaggle/docker-python\n",
    "# For example, here's several helpful packages to load\n",
    "\n",
    "import numpy as np # linear algebra\n",
    "import pandas as pd # data processing, CSV file I/O (e.g. pd.read_csv)\n",
    "\n",
    "# Input data files are available in the read-only \"../input/\" directory\n",
    "# For example, running this (by clicking run or pressing Shift+Enter) will list all files under the input directory\n",
    "\n",
    "import os\n",
    "for dirname, _, filenames in os.walk('/kaggle/input'):\n",
    "    for filename in filenames:\n",
    "        print(os.path.join(dirname, filename))\n",
    "\n",
    "# You can write up to 20GB to the current directory (/kaggle/working/) that gets preserved as output when you create a version using \"Save & Run All\" \n",
    "# You can also write temporary files to /kaggle/temp/, but they won't be saved outside of the current session"
   ]
  },
  {
   "cell_type": "code",
   "execution_count": 2,
   "id": "adbf6180",
   "metadata": {
    "execution": {
     "iopub.execute_input": "2023-11-10T04:53:04.186410Z",
     "iopub.status.busy": "2023-11-10T04:53:04.185898Z",
     "iopub.status.idle": "2023-11-10T04:53:12.874141Z",
     "shell.execute_reply": "2023-11-10T04:53:12.873024Z"
    },
    "papermill": {
     "duration": 8.698633,
     "end_time": "2023-11-10T04:53:12.876400",
     "exception": false,
     "start_time": "2023-11-10T04:53:04.177767",
     "status": "completed"
    },
    "tags": []
   },
   "outputs": [
    {
     "data": {
      "text/html": [
       "<div>\n",
       "<style scoped>\n",
       "    .dataframe tbody tr th:only-of-type {\n",
       "        vertical-align: middle;\n",
       "    }\n",
       "\n",
       "    .dataframe tbody tr th {\n",
       "        vertical-align: top;\n",
       "    }\n",
       "\n",
       "    .dataframe thead th {\n",
       "        text-align: right;\n",
       "    }\n",
       "</style>\n",
       "<table border=\"1\" class=\"dataframe\">\n",
       "  <thead>\n",
       "    <tr style=\"text-align: right;\">\n",
       "      <th></th>\n",
       "      <th>PassengerId</th>\n",
       "      <th>Survived</th>\n",
       "      <th>Pclass</th>\n",
       "      <th>Name</th>\n",
       "      <th>Sex</th>\n",
       "      <th>Age</th>\n",
       "      <th>SibSp</th>\n",
       "      <th>Parch</th>\n",
       "      <th>Ticket</th>\n",
       "      <th>Fare</th>\n",
       "      <th>Cabin</th>\n",
       "      <th>Embarked</th>\n",
       "    </tr>\n",
       "  </thead>\n",
       "  <tbody>\n",
       "    <tr>\n",
       "      <th>0</th>\n",
       "      <td>1</td>\n",
       "      <td>0</td>\n",
       "      <td>3</td>\n",
       "      <td>Braund, Mr. Owen Harris</td>\n",
       "      <td>male</td>\n",
       "      <td>22.0</td>\n",
       "      <td>1</td>\n",
       "      <td>0</td>\n",
       "      <td>A/5 21171</td>\n",
       "      <td>7.2500</td>\n",
       "      <td>NaN</td>\n",
       "      <td>S</td>\n",
       "    </tr>\n",
       "    <tr>\n",
       "      <th>1</th>\n",
       "      <td>2</td>\n",
       "      <td>1</td>\n",
       "      <td>1</td>\n",
       "      <td>Cumings, Mrs. John Bradley (Florence Briggs Th...</td>\n",
       "      <td>female</td>\n",
       "      <td>38.0</td>\n",
       "      <td>1</td>\n",
       "      <td>0</td>\n",
       "      <td>PC 17599</td>\n",
       "      <td>71.2833</td>\n",
       "      <td>C85</td>\n",
       "      <td>C</td>\n",
       "    </tr>\n",
       "    <tr>\n",
       "      <th>2</th>\n",
       "      <td>3</td>\n",
       "      <td>1</td>\n",
       "      <td>3</td>\n",
       "      <td>Heikkinen, Miss. Laina</td>\n",
       "      <td>female</td>\n",
       "      <td>26.0</td>\n",
       "      <td>0</td>\n",
       "      <td>0</td>\n",
       "      <td>STON/O2. 3101282</td>\n",
       "      <td>7.9250</td>\n",
       "      <td>NaN</td>\n",
       "      <td>S</td>\n",
       "    </tr>\n",
       "    <tr>\n",
       "      <th>3</th>\n",
       "      <td>4</td>\n",
       "      <td>1</td>\n",
       "      <td>1</td>\n",
       "      <td>Futrelle, Mrs. Jacques Heath (Lily May Peel)</td>\n",
       "      <td>female</td>\n",
       "      <td>35.0</td>\n",
       "      <td>1</td>\n",
       "      <td>0</td>\n",
       "      <td>113803</td>\n",
       "      <td>53.1000</td>\n",
       "      <td>C123</td>\n",
       "      <td>S</td>\n",
       "    </tr>\n",
       "    <tr>\n",
       "      <th>4</th>\n",
       "      <td>5</td>\n",
       "      <td>0</td>\n",
       "      <td>3</td>\n",
       "      <td>Allen, Mr. William Henry</td>\n",
       "      <td>male</td>\n",
       "      <td>35.0</td>\n",
       "      <td>0</td>\n",
       "      <td>0</td>\n",
       "      <td>373450</td>\n",
       "      <td>8.0500</td>\n",
       "      <td>NaN</td>\n",
       "      <td>S</td>\n",
       "    </tr>\n",
       "  </tbody>\n",
       "</table>\n",
       "</div>"
      ],
      "text/plain": [
       "   PassengerId  Survived  Pclass  \\\n",
       "0            1         0       3   \n",
       "1            2         1       1   \n",
       "2            3         1       3   \n",
       "3            4         1       1   \n",
       "4            5         0       3   \n",
       "\n",
       "                                                Name     Sex   Age  SibSp  \\\n",
       "0                            Braund, Mr. Owen Harris    male  22.0      1   \n",
       "1  Cumings, Mrs. John Bradley (Florence Briggs Th...  female  38.0      1   \n",
       "2                             Heikkinen, Miss. Laina  female  26.0      0   \n",
       "3       Futrelle, Mrs. Jacques Heath (Lily May Peel)  female  35.0      1   \n",
       "4                           Allen, Mr. William Henry    male  35.0      0   \n",
       "\n",
       "   Parch            Ticket     Fare Cabin Embarked  \n",
       "0      0         A/5 21171   7.2500   NaN        S  \n",
       "1      0          PC 17599  71.2833   C85        C  \n",
       "2      0  STON/O2. 3101282   7.9250   NaN        S  \n",
       "3      0            113803  53.1000  C123        S  \n",
       "4      0            373450   8.0500   NaN        S  "
      ]
     },
     "execution_count": 2,
     "metadata": {},
     "output_type": "execute_result"
    }
   ],
   "source": [
    "import tensorflow as tf\n",
    "import pandas as pd\n",
    "import matplotlib.pyplot as plt\n",
    "\n",
    "train_data = pd.read_csv('/kaggle/input/titanic/train.csv')\n",
    "train_data.head()"
   ]
  },
  {
   "cell_type": "code",
   "execution_count": 3,
   "id": "0d815bbe",
   "metadata": {
    "execution": {
     "iopub.execute_input": "2023-11-10T04:53:12.892930Z",
     "iopub.status.busy": "2023-11-10T04:53:12.892306Z",
     "iopub.status.idle": "2023-11-10T04:53:12.921353Z",
     "shell.execute_reply": "2023-11-10T04:53:12.919667Z"
    },
    "papermill": {
     "duration": 0.03992,
     "end_time": "2023-11-10T04:53:12.923720",
     "exception": false,
     "start_time": "2023-11-10T04:53:12.883800",
     "status": "completed"
    },
    "tags": []
   },
   "outputs": [
    {
     "name": "stdout",
     "output_type": "stream",
     "text": [
      "<class 'pandas.core.frame.DataFrame'>\n",
      "RangeIndex: 891 entries, 0 to 890\n",
      "Data columns (total 12 columns):\n",
      " #   Column       Non-Null Count  Dtype  \n",
      "---  ------       --------------  -----  \n",
      " 0   PassengerId  891 non-null    int64  \n",
      " 1   Survived     891 non-null    int64  \n",
      " 2   Pclass       891 non-null    int64  \n",
      " 3   Name         891 non-null    object \n",
      " 4   Sex          891 non-null    object \n",
      " 5   Age          714 non-null    float64\n",
      " 6   SibSp        891 non-null    int64  \n",
      " 7   Parch        891 non-null    int64  \n",
      " 8   Ticket       891 non-null    object \n",
      " 9   Fare         891 non-null    float64\n",
      " 10  Cabin        204 non-null    object \n",
      " 11  Embarked     889 non-null    object \n",
      "dtypes: float64(2), int64(5), object(5)\n",
      "memory usage: 83.7+ KB\n"
     ]
    }
   ],
   "source": [
    "train_data.info()"
   ]
  },
  {
   "cell_type": "code",
   "execution_count": 4,
   "id": "b85a77e4",
   "metadata": {
    "execution": {
     "iopub.execute_input": "2023-11-10T04:53:12.939809Z",
     "iopub.status.busy": "2023-11-10T04:53:12.939415Z",
     "iopub.status.idle": "2023-11-10T04:53:12.946765Z",
     "shell.execute_reply": "2023-11-10T04:53:12.945986Z"
    },
    "papermill": {
     "duration": 0.01756,
     "end_time": "2023-11-10T04:53:12.948679",
     "exception": false,
     "start_time": "2023-11-10T04:53:12.931119",
     "status": "completed"
    },
    "tags": []
   },
   "outputs": [
    {
     "data": {
      "text/plain": [
       "PassengerId                          1\n",
       "Survived                             0\n",
       "Pclass                               3\n",
       "Name           Braund, Mr. Owen Harris\n",
       "Sex                               male\n",
       "Age                               22.0\n",
       "SibSp                                1\n",
       "Parch                                0\n",
       "Ticket                       A/5 21171\n",
       "Fare                              7.25\n",
       "Cabin                              NaN\n",
       "Embarked                             S\n",
       "Name: 0, dtype: object"
      ]
     },
     "execution_count": 4,
     "metadata": {},
     "output_type": "execute_result"
    }
   ],
   "source": [
    "train_data.loc[0]"
   ]
  },
  {
   "cell_type": "code",
   "execution_count": 5,
   "id": "ef5f09d2",
   "metadata": {
    "execution": {
     "iopub.execute_input": "2023-11-10T04:53:12.964581Z",
     "iopub.status.busy": "2023-11-10T04:53:12.964213Z",
     "iopub.status.idle": "2023-11-10T04:53:12.981159Z",
     "shell.execute_reply": "2023-11-10T04:53:12.979540Z"
    },
    "papermill": {
     "duration": 0.027509,
     "end_time": "2023-11-10T04:53:12.983494",
     "exception": false,
     "start_time": "2023-11-10T04:53:12.955985",
     "status": "completed"
    },
    "tags": []
   },
   "outputs": [
    {
     "name": "stdout",
     "output_type": "stream",
     "text": [
      "<class 'pandas.core.frame.DataFrame'>\n",
      "RangeIndex: 891 entries, 0 to 890\n",
      "Data columns (total 8 columns):\n",
      " #   Column    Non-Null Count  Dtype  \n",
      "---  ------    --------------  -----  \n",
      " 0   Survived  891 non-null    int64  \n",
      " 1   Pclass    891 non-null    int64  \n",
      " 2   Sex       891 non-null    object \n",
      " 3   Age       714 non-null    float64\n",
      " 4   SibSp     891 non-null    int64  \n",
      " 5   Parch     891 non-null    int64  \n",
      " 6   Fare      891 non-null    float64\n",
      " 7   Embarked  889 non-null    object \n",
      "dtypes: float64(2), int64(4), object(2)\n",
      "memory usage: 55.8+ KB\n"
     ]
    }
   ],
   "source": [
    "# drop delle colonne che non servono alla predizione\n",
    "train_data.drop(['Name', 'Ticket', 'PassengerId', 'Cabin'], axis=1, inplace=True)\n",
    "train_data.info()"
   ]
  },
  {
   "cell_type": "markdown",
   "id": "8875cf46",
   "metadata": {
    "papermill": {
     "duration": 0.006818,
     "end_time": "2023-11-10T04:53:12.997572",
     "exception": false,
     "start_time": "2023-11-10T04:53:12.990754",
     "status": "completed"
    },
    "tags": []
   },
   "source": [
    "Split dei dati di addestramento in fetures (X) ed etichetta obiettivo (y)\n"
   ]
  },
  {
   "cell_type": "code",
   "execution_count": 6,
   "id": "4761eba2",
   "metadata": {
    "execution": {
     "iopub.execute_input": "2023-11-10T04:53:13.013444Z",
     "iopub.status.busy": "2023-11-10T04:53:13.013082Z",
     "iopub.status.idle": "2023-11-10T04:53:13.021105Z",
     "shell.execute_reply": "2023-11-10T04:53:13.019987Z"
    },
    "papermill": {
     "duration": 0.018728,
     "end_time": "2023-11-10T04:53:13.023452",
     "exception": false,
     "start_time": "2023-11-10T04:53:13.004724",
     "status": "completed"
    },
    "tags": []
   },
   "outputs": [
    {
     "data": {
      "text/plain": [
       "((891, 7), (891,))"
      ]
     },
     "execution_count": 6,
     "metadata": {},
     "output_type": "execute_result"
    }
   ],
   "source": [
    "X = train_data.drop('Survived', axis=1, inplace=False)\n",
    "y = train_data['Survived']\n",
    "\n",
    "X.shape, y.shape"
   ]
  },
  {
   "cell_type": "markdown",
   "id": "4e719dae",
   "metadata": {
    "papermill": {
     "duration": 0.007013,
     "end_time": "2023-11-10T04:53:13.037928",
     "exception": false,
     "start_time": "2023-11-10T04:53:13.030915",
     "status": "completed"
    },
    "tags": []
   },
   "source": [
    "## Normalizzazione, standardizzazione e riempimento dei vuoi"
   ]
  },
  {
   "cell_type": "code",
   "execution_count": 7,
   "id": "e7420094",
   "metadata": {
    "execution": {
     "iopub.execute_input": "2023-11-10T04:53:13.054467Z",
     "iopub.status.busy": "2023-11-10T04:53:13.054089Z",
     "iopub.status.idle": "2023-11-10T04:53:14.217846Z",
     "shell.execute_reply": "2023-11-10T04:53:14.216733Z"
    },
    "papermill": {
     "duration": 1.1753,
     "end_time": "2023-11-10T04:53:14.220697",
     "exception": false,
     "start_time": "2023-11-10T04:53:13.045397",
     "status": "completed"
    },
    "tags": []
   },
   "outputs": [],
   "source": [
    "from sklearn.pipeline import Pipeline\n",
    "from sklearn.impute import SimpleImputer\n",
    "from sklearn.preprocessing import StandardScaler, OneHotEncoder\n",
    "\n",
    "\n",
    "'''\n",
    "Pipeline per la trasformazione dei dati numerici:\n",
    "1. Riempio i campi mancanti con la mediana degli altri valori\n",
    "2. Scalo tutti i valori per ridurli all'intervallo 0-1\n",
    "'''\n",
    "\n",
    "numeric_pipeline = Pipeline(\n",
    "    [('imputer', SimpleImputer(strategy='median')),\n",
    "    ('std_scaler', StandardScaler())]\n",
    "    \n",
    ")\n",
    "\n",
    "'''\n",
    "Pipeline per i valori testuali (categorici):\n",
    "1. riempie i valori vuoti con il valore più frequente\n",
    "2- one-hot ecoding\n",
    "'''\n",
    "\n",
    "categorical_pipeline = Pipeline(\n",
    "    [('cat_imputer', SimpleImputer(strategy='most_frequent')),\n",
    "    ('one_hot', OneHotEncoder())]\n",
    ")\n"
   ]
  },
  {
   "cell_type": "code",
   "execution_count": 8,
   "id": "c897e697",
   "metadata": {
    "execution": {
     "iopub.execute_input": "2023-11-10T04:53:14.238434Z",
     "iopub.status.busy": "2023-11-10T04:53:14.237432Z",
     "iopub.status.idle": "2023-11-10T04:53:14.252094Z",
     "shell.execute_reply": "2023-11-10T04:53:14.250957Z"
    },
    "papermill": {
     "duration": 0.026046,
     "end_time": "2023-11-10T04:53:14.254428",
     "exception": false,
     "start_time": "2023-11-10T04:53:14.228382",
     "status": "completed"
    },
    "tags": []
   },
   "outputs": [
    {
     "name": "stdout",
     "output_type": "stream",
     "text": [
      "<class 'pandas.core.frame.DataFrame'>\n",
      "RangeIndex: 891 entries, 0 to 890\n",
      "Data columns (total 8 columns):\n",
      " #   Column    Non-Null Count  Dtype  \n",
      "---  ------    --------------  -----  \n",
      " 0   Survived  891 non-null    int64  \n",
      " 1   Pclass    891 non-null    int64  \n",
      " 2   Sex       891 non-null    object \n",
      " 3   Age       714 non-null    float64\n",
      " 4   SibSp     891 non-null    int64  \n",
      " 5   Parch     891 non-null    int64  \n",
      " 6   Fare      891 non-null    float64\n",
      " 7   Embarked  889 non-null    object \n",
      "dtypes: float64(2), int64(4), object(2)\n",
      "memory usage: 55.8+ KB\n"
     ]
    }
   ],
   "source": [
    "train_data.info()"
   ]
  },
  {
   "cell_type": "code",
   "execution_count": 9,
   "id": "73c94f6f",
   "metadata": {
    "execution": {
     "iopub.execute_input": "2023-11-10T04:53:14.271329Z",
     "iopub.status.busy": "2023-11-10T04:53:14.270926Z",
     "iopub.status.idle": "2023-11-10T04:53:14.306088Z",
     "shell.execute_reply": "2023-11-10T04:53:14.305224Z"
    },
    "papermill": {
     "duration": 0.046062,
     "end_time": "2023-11-10T04:53:14.308145",
     "exception": false,
     "start_time": "2023-11-10T04:53:14.262083",
     "status": "completed"
    },
    "tags": []
   },
   "outputs": [
    {
     "data": {
      "text/plain": [
       "(891, 12)"
      ]
     },
     "execution_count": 9,
     "metadata": {},
     "output_type": "execute_result"
    }
   ],
   "source": [
    "# attribuisco le pipeline\n",
    "from sklearn.compose import ColumnTransformer\n",
    "\n",
    "\n",
    "\n",
    "numeric_attributes = ['Age', 'SibSp', 'Parch', 'Fare']\n",
    "categorical_attributes = ['Pclass', 'Sex', 'Embarked']\n",
    "\n",
    "full_pipeline = ColumnTransformer([(\"num\", numeric_pipeline, numeric_attributes), \n",
    "                                   (\"cat\", categorical_pipeline, categorical_attributes)])\n",
    "\n",
    "X = full_pipeline.fit_transform(X)\n",
    "X.shape"
   ]
  },
  {
   "cell_type": "code",
   "execution_count": 10,
   "id": "bbc5c90a",
   "metadata": {
    "execution": {
     "iopub.execute_input": "2023-11-10T04:53:14.325639Z",
     "iopub.status.busy": "2023-11-10T04:53:14.324921Z",
     "iopub.status.idle": "2023-11-10T04:53:14.331120Z",
     "shell.execute_reply": "2023-11-10T04:53:14.330001Z"
    },
    "papermill": {
     "duration": 0.017615,
     "end_time": "2023-11-10T04:53:14.333520",
     "exception": false,
     "start_time": "2023-11-10T04:53:14.315905",
     "status": "completed"
    },
    "tags": []
   },
   "outputs": [],
   "source": [
    "from sklearn.model_selection import train_test_split\n",
    "\n",
    "X_train, X_val, y_train, y_val = train_test_split(X, y, test_size=0.2, random_state=42)"
   ]
  },
  {
   "cell_type": "code",
   "execution_count": 11,
   "id": "99800697",
   "metadata": {
    "execution": {
     "iopub.execute_input": "2023-11-10T04:53:14.350642Z",
     "iopub.status.busy": "2023-11-10T04:53:14.350231Z",
     "iopub.status.idle": "2023-11-10T04:53:14.356976Z",
     "shell.execute_reply": "2023-11-10T04:53:14.355985Z"
    },
    "papermill": {
     "duration": 0.018133,
     "end_time": "2023-11-10T04:53:14.359261",
     "exception": false,
     "start_time": "2023-11-10T04:53:14.341128",
     "status": "completed"
    },
    "tags": []
   },
   "outputs": [
    {
     "data": {
      "text/plain": [
       "((712, 12), (179, 12), (712,), (179,))"
      ]
     },
     "execution_count": 11,
     "metadata": {},
     "output_type": "execute_result"
    }
   ],
   "source": [
    "X_train.shape, X_val.shape, y_train.shape, y_val.shape"
   ]
  },
  {
   "cell_type": "markdown",
   "id": "60fefdc3",
   "metadata": {
    "papermill": {
     "duration": 0.007465,
     "end_time": "2023-11-10T04:53:14.374481",
     "exception": false,
     "start_time": "2023-11-10T04:53:14.367016",
     "status": "completed"
    },
    "tags": []
   },
   "source": [
    "## Creazione del modello"
   ]
  },
  {
   "cell_type": "code",
   "execution_count": 12,
   "id": "ce58b57a",
   "metadata": {
    "execution": {
     "iopub.execute_input": "2023-11-10T04:53:14.392120Z",
     "iopub.status.busy": "2023-11-10T04:53:14.391394Z",
     "iopub.status.idle": "2023-11-10T04:53:14.643611Z",
     "shell.execute_reply": "2023-11-10T04:53:14.642433Z"
    },
    "papermill": {
     "duration": 0.2705,
     "end_time": "2023-11-10T04:53:14.652789",
     "exception": false,
     "start_time": "2023-11-10T04:53:14.382289",
     "status": "completed"
    },
    "tags": []
   },
   "outputs": [
    {
     "name": "stdout",
     "output_type": "stream",
     "text": [
      "Model: \"sequential\"\n",
      "_________________________________________________________________\n",
      " Layer (type)                Output Shape              Param #   \n",
      "=================================================================\n",
      " dense (Dense)               (None, 512)               6656      \n",
      "                                                                 \n",
      " dense_1 (Dense)             (None, 1024)              525312    \n",
      "                                                                 \n",
      " dropout (Dropout)           (None, 1024)              0         \n",
      "                                                                 \n",
      " dense_2 (Dense)             (None, 128)               131200    \n",
      "                                                                 \n",
      " dense_3 (Dense)             (None, 64)                8256      \n",
      "                                                                 \n",
      " dense_4 (Dense)             (None, 64)                4160      \n",
      "                                                                 \n",
      " dense_5 (Dense)             (None, 1)                 65        \n",
      "                                                                 \n",
      "=================================================================\n",
      "Total params: 675,649\n",
      "Trainable params: 675,649\n",
      "Non-trainable params: 0\n",
      "_________________________________________________________________\n"
     ]
    }
   ],
   "source": [
    "import tensorflow as tf\n",
    "from tensorflow import keras\n",
    "from tensorflow.keras.models import Sequential\n",
    "from tensorflow.keras import layers\n",
    "\n",
    "# creazione del modello\n",
    "\n",
    "titanic_model = tf.keras.Sequential([\n",
    "    tf.keras.layers.InputLayer(input_shape=(12,)),\n",
    "    tf.keras.layers.Dense(512, activation='relu', kernel_regularizer=tf.keras.regularizers.l2(0.01)),\n",
    "    tf.keras.layers.Dense(1024, activation='relu', kernel_regularizer=tf.keras.regularizers.l2(0.01)),\n",
    "    tf.keras.layers.Dropout(0.4),\n",
    "    tf.keras.layers.Dense(128, activation='relu', kernel_regularizer=tf.keras.regularizers.l2(0.01)),\n",
    "    tf.keras.layers.Dense(64, activation='relu', kernel_regularizer=tf.keras.regularizers.l2(0.01)),\n",
    "    tf.keras.layers.Dense(64, activation='relu', kernel_regularizer=tf.keras.regularizers.l2(0.01)),\n",
    "    tf.keras.layers.Dense(1, activation='sigmoid', kernel_regularizer=tf.keras.regularizers.l2(0.01)),\n",
    "])\n",
    "\n",
    "titanic_model.summary()"
   ]
  },
  {
   "cell_type": "code",
   "execution_count": 13,
   "id": "1159ee8d",
   "metadata": {
    "execution": {
     "iopub.execute_input": "2023-11-10T04:53:14.672881Z",
     "iopub.status.busy": "2023-11-10T04:53:14.672498Z",
     "iopub.status.idle": "2023-11-10T04:53:14.678462Z",
     "shell.execute_reply": "2023-11-10T04:53:14.677415Z"
    },
    "papermill": {
     "duration": 0.01877,
     "end_time": "2023-11-10T04:53:14.680640",
     "exception": false,
     "start_time": "2023-11-10T04:53:14.661870",
     "status": "completed"
    },
    "tags": []
   },
   "outputs": [],
   "source": [
    "'''\n",
    "callback per fermare l'addestramento quando l'accuratezza arriva all'83%\n",
    "'''\n",
    "\n",
    "class myCallback(tf.keras.callbacks.Callback):\n",
    "    def on_epoch_end(self, epoch, logs={}):\n",
    "        if(logs.get('val_accuracy')>0.93):\n",
    "            print(\"\\nReached 83% accuracy so cancelling training!\")\n",
    "            self.model.stop_training = True"
   ]
  },
  {
   "cell_type": "code",
   "execution_count": 14,
   "id": "08d5aa9b",
   "metadata": {
    "execution": {
     "iopub.execute_input": "2023-11-10T04:53:14.700741Z",
     "iopub.status.busy": "2023-11-10T04:53:14.700346Z",
     "iopub.status.idle": "2023-11-10T04:54:29.051185Z",
     "shell.execute_reply": "2023-11-10T04:54:29.050115Z"
    },
    "papermill": {
     "duration": 74.363967,
     "end_time": "2023-11-10T04:54:29.053697",
     "exception": false,
     "start_time": "2023-11-10T04:53:14.689730",
     "status": "completed"
    },
    "tags": []
   },
   "outputs": [
    {
     "name": "stdout",
     "output_type": "stream",
     "text": [
      "Epoch 1/100\n",
      "89/89 [==============================] - 3s 11ms/step - loss: 9.9287 - accuracy: 0.6250 - val_loss: 8.4429 - val_accuracy: 0.6480\n",
      "Epoch 2/100\n",
      "89/89 [==============================] - 1s 8ms/step - loss: 7.2804 - accuracy: 0.7051 - val_loss: 6.2360 - val_accuracy: 0.8212\n",
      "Epoch 3/100\n",
      "89/89 [==============================] - 1s 8ms/step - loss: 5.4292 - accuracy: 0.8188 - val_loss: 4.7108 - val_accuracy: 0.7989\n",
      "Epoch 4/100\n",
      "89/89 [==============================] - 1s 8ms/step - loss: 4.1505 - accuracy: 0.8104 - val_loss: 3.6435 - val_accuracy: 0.8045\n",
      "Epoch 5/100\n",
      "89/89 [==============================] - 1s 8ms/step - loss: 3.2545 - accuracy: 0.8118 - val_loss: 2.9021 - val_accuracy: 0.8212\n",
      "Epoch 6/100\n",
      "89/89 [==============================] - 1s 8ms/step - loss: 2.6178 - accuracy: 0.8188 - val_loss: 2.3708 - val_accuracy: 0.8045\n",
      "Epoch 7/100\n",
      "89/89 [==============================] - 1s 8ms/step - loss: 2.1693 - accuracy: 0.8244 - val_loss: 1.9878 - val_accuracy: 0.8268\n",
      "Epoch 8/100\n",
      "89/89 [==============================] - 1s 8ms/step - loss: 1.8449 - accuracy: 0.8301 - val_loss: 1.7219 - val_accuracy: 0.8101\n",
      "Epoch 9/100\n",
      "89/89 [==============================] - 1s 8ms/step - loss: 1.6078 - accuracy: 0.8202 - val_loss: 1.5156 - val_accuracy: 0.8101\n",
      "Epoch 10/100\n",
      "89/89 [==============================] - 1s 8ms/step - loss: 1.4299 - accuracy: 0.8272 - val_loss: 1.3625 - val_accuracy: 0.8156\n",
      "Epoch 11/100\n",
      "89/89 [==============================] - 1s 8ms/step - loss: 1.2977 - accuracy: 0.8216 - val_loss: 1.2515 - val_accuracy: 0.8101\n",
      "Epoch 12/100\n",
      "89/89 [==============================] - 1s 8ms/step - loss: 1.1831 - accuracy: 0.8272 - val_loss: 1.1595 - val_accuracy: 0.8045\n",
      "Epoch 13/100\n",
      "89/89 [==============================] - 1s 8ms/step - loss: 1.0978 - accuracy: 0.8272 - val_loss: 1.0862 - val_accuracy: 0.8045\n",
      "Epoch 14/100\n",
      "89/89 [==============================] - 1s 8ms/step - loss: 1.0265 - accuracy: 0.8315 - val_loss: 1.0140 - val_accuracy: 0.8156\n",
      "Epoch 15/100\n",
      "89/89 [==============================] - 1s 8ms/step - loss: 0.9677 - accuracy: 0.8301 - val_loss: 0.9691 - val_accuracy: 0.8156\n",
      "Epoch 16/100\n",
      "89/89 [==============================] - 1s 8ms/step - loss: 0.9290 - accuracy: 0.8287 - val_loss: 0.9288 - val_accuracy: 0.7989\n",
      "Epoch 17/100\n",
      "89/89 [==============================] - 1s 8ms/step - loss: 0.8818 - accuracy: 0.8301 - val_loss: 0.8887 - val_accuracy: 0.8156\n",
      "Epoch 18/100\n",
      "89/89 [==============================] - 1s 8ms/step - loss: 0.8459 - accuracy: 0.8244 - val_loss: 0.8836 - val_accuracy: 0.7989\n",
      "Epoch 19/100\n",
      "89/89 [==============================] - 1s 8ms/step - loss: 0.8187 - accuracy: 0.8301 - val_loss: 0.8245 - val_accuracy: 0.8101\n",
      "Epoch 20/100\n",
      "89/89 [==============================] - 1s 8ms/step - loss: 0.7880 - accuracy: 0.8301 - val_loss: 0.8003 - val_accuracy: 0.8156\n",
      "Epoch 21/100\n",
      "89/89 [==============================] - 1s 8ms/step - loss: 0.7705 - accuracy: 0.8272 - val_loss: 0.7805 - val_accuracy: 0.8212\n",
      "Epoch 22/100\n",
      "89/89 [==============================] - 1s 8ms/step - loss: 0.7468 - accuracy: 0.8258 - val_loss: 0.7651 - val_accuracy: 0.8212\n",
      "Epoch 23/100\n",
      "89/89 [==============================] - 1s 8ms/step - loss: 0.7257 - accuracy: 0.8357 - val_loss: 0.7467 - val_accuracy: 0.8212\n",
      "Epoch 24/100\n",
      "89/89 [==============================] - 1s 8ms/step - loss: 0.7112 - accuracy: 0.8315 - val_loss: 0.7338 - val_accuracy: 0.8268\n",
      "Epoch 25/100\n",
      "89/89 [==============================] - 1s 8ms/step - loss: 0.6940 - accuracy: 0.8413 - val_loss: 0.7231 - val_accuracy: 0.8212\n",
      "Epoch 26/100\n",
      "89/89 [==============================] - 1s 8ms/step - loss: 0.6837 - accuracy: 0.8455 - val_loss: 0.7141 - val_accuracy: 0.8156\n",
      "Epoch 27/100\n",
      "89/89 [==============================] - 1s 8ms/step - loss: 0.6768 - accuracy: 0.8371 - val_loss: 0.6965 - val_accuracy: 0.8268\n",
      "Epoch 28/100\n",
      "89/89 [==============================] - 1s 8ms/step - loss: 0.6694 - accuracy: 0.8287 - val_loss: 0.6926 - val_accuracy: 0.8212\n",
      "Epoch 29/100\n",
      "89/89 [==============================] - 1s 8ms/step - loss: 0.6582 - accuracy: 0.8343 - val_loss: 0.6828 - val_accuracy: 0.8156\n",
      "Epoch 30/100\n",
      "89/89 [==============================] - 1s 8ms/step - loss: 0.6518 - accuracy: 0.8343 - val_loss: 0.6783 - val_accuracy: 0.8156\n",
      "Epoch 31/100\n",
      "89/89 [==============================] - 1s 8ms/step - loss: 0.6386 - accuracy: 0.8301 - val_loss: 0.6686 - val_accuracy: 0.8156\n",
      "Epoch 32/100\n",
      "89/89 [==============================] - 1s 8ms/step - loss: 0.6356 - accuracy: 0.8455 - val_loss: 0.6733 - val_accuracy: 0.7989\n",
      "Epoch 33/100\n",
      "89/89 [==============================] - 1s 8ms/step - loss: 0.6302 - accuracy: 0.8301 - val_loss: 0.6547 - val_accuracy: 0.8212\n",
      "Epoch 34/100\n",
      "89/89 [==============================] - 1s 8ms/step - loss: 0.6196 - accuracy: 0.8301 - val_loss: 0.6516 - val_accuracy: 0.8268\n",
      "Epoch 35/100\n",
      "89/89 [==============================] - 1s 8ms/step - loss: 0.6176 - accuracy: 0.8413 - val_loss: 0.6454 - val_accuracy: 0.8324\n",
      "Epoch 36/100\n",
      "89/89 [==============================] - 1s 8ms/step - loss: 0.6117 - accuracy: 0.8357 - val_loss: 0.6470 - val_accuracy: 0.8101\n",
      "Epoch 37/100\n",
      "89/89 [==============================] - 1s 8ms/step - loss: 0.6084 - accuracy: 0.8427 - val_loss: 0.6471 - val_accuracy: 0.8101\n",
      "Epoch 38/100\n",
      "89/89 [==============================] - 1s 8ms/step - loss: 0.6055 - accuracy: 0.8216 - val_loss: 0.6384 - val_accuracy: 0.8212\n",
      "Epoch 39/100\n",
      "89/89 [==============================] - 1s 9ms/step - loss: 0.6003 - accuracy: 0.8441 - val_loss: 0.6355 - val_accuracy: 0.8156\n",
      "Epoch 40/100\n",
      "89/89 [==============================] - 1s 9ms/step - loss: 0.5995 - accuracy: 0.8357 - val_loss: 0.6296 - val_accuracy: 0.8212\n",
      "Epoch 41/100\n",
      "89/89 [==============================] - 1s 8ms/step - loss: 0.5992 - accuracy: 0.8357 - val_loss: 0.6274 - val_accuracy: 0.8268\n",
      "Epoch 42/100\n",
      "89/89 [==============================] - 1s 8ms/step - loss: 0.5895 - accuracy: 0.8371 - val_loss: 0.6222 - val_accuracy: 0.8324\n",
      "Epoch 43/100\n",
      "89/89 [==============================] - 1s 8ms/step - loss: 0.5866 - accuracy: 0.8329 - val_loss: 0.6231 - val_accuracy: 0.8212\n",
      "Epoch 44/100\n",
      "89/89 [==============================] - 1s 8ms/step - loss: 0.5826 - accuracy: 0.8329 - val_loss: 0.6248 - val_accuracy: 0.8045\n",
      "Epoch 45/100\n",
      "89/89 [==============================] - 1s 8ms/step - loss: 0.5847 - accuracy: 0.8427 - val_loss: 0.6177 - val_accuracy: 0.8101\n",
      "Epoch 46/100\n",
      "89/89 [==============================] - 1s 9ms/step - loss: 0.5782 - accuracy: 0.8441 - val_loss: 0.6225 - val_accuracy: 0.7989\n",
      "Epoch 47/100\n",
      "89/89 [==============================] - 1s 8ms/step - loss: 0.5750 - accuracy: 0.8497 - val_loss: 0.6228 - val_accuracy: 0.8045\n",
      "Epoch 48/100\n",
      "89/89 [==============================] - 1s 8ms/step - loss: 0.5777 - accuracy: 0.8413 - val_loss: 0.6197 - val_accuracy: 0.8101\n",
      "Epoch 49/100\n",
      "89/89 [==============================] - 1s 8ms/step - loss: 0.5824 - accuracy: 0.8371 - val_loss: 0.6160 - val_accuracy: 0.8101\n",
      "Epoch 50/100\n",
      "89/89 [==============================] - 1s 8ms/step - loss: 0.5732 - accuracy: 0.8315 - val_loss: 0.6146 - val_accuracy: 0.7933\n",
      "Epoch 51/100\n",
      "89/89 [==============================] - 1s 8ms/step - loss: 0.5742 - accuracy: 0.8357 - val_loss: 0.6049 - val_accuracy: 0.8212\n",
      "Epoch 52/100\n",
      "89/89 [==============================] - 1s 8ms/step - loss: 0.5696 - accuracy: 0.8371 - val_loss: 0.6095 - val_accuracy: 0.8212\n",
      "Epoch 53/100\n",
      "89/89 [==============================] - 1s 8ms/step - loss: 0.5635 - accuracy: 0.8427 - val_loss: 0.6046 - val_accuracy: 0.8324\n",
      "Epoch 54/100\n",
      "89/89 [==============================] - 1s 8ms/step - loss: 0.5673 - accuracy: 0.8385 - val_loss: 0.6056 - val_accuracy: 0.8101\n",
      "Epoch 55/100\n",
      "89/89 [==============================] - 1s 8ms/step - loss: 0.5633 - accuracy: 0.8343 - val_loss: 0.6043 - val_accuracy: 0.8101\n",
      "Epoch 56/100\n",
      "89/89 [==============================] - 1s 8ms/step - loss: 0.5615 - accuracy: 0.8427 - val_loss: 0.6058 - val_accuracy: 0.8045\n",
      "Epoch 57/100\n",
      "89/89 [==============================] - 1s 9ms/step - loss: 0.5634 - accuracy: 0.8357 - val_loss: 0.5990 - val_accuracy: 0.8268\n",
      "Epoch 58/100\n",
      "89/89 [==============================] - 1s 8ms/step - loss: 0.5618 - accuracy: 0.8329 - val_loss: 0.5975 - val_accuracy: 0.8268\n",
      "Epoch 59/100\n",
      "89/89 [==============================] - 1s 8ms/step - loss: 0.5578 - accuracy: 0.8413 - val_loss: 0.5974 - val_accuracy: 0.8324\n",
      "Epoch 60/100\n",
      "89/89 [==============================] - 1s 8ms/step - loss: 0.5581 - accuracy: 0.8357 - val_loss: 0.5943 - val_accuracy: 0.8156\n",
      "Epoch 61/100\n",
      "89/89 [==============================] - 1s 8ms/step - loss: 0.5521 - accuracy: 0.8385 - val_loss: 0.5972 - val_accuracy: 0.8324\n",
      "Epoch 62/100\n",
      "89/89 [==============================] - 1s 8ms/step - loss: 0.5593 - accuracy: 0.8371 - val_loss: 0.5943 - val_accuracy: 0.8156\n",
      "Epoch 63/100\n",
      "89/89 [==============================] - 1s 8ms/step - loss: 0.5548 - accuracy: 0.8399 - val_loss: 0.5953 - val_accuracy: 0.8045\n",
      "Epoch 64/100\n",
      "89/89 [==============================] - 1s 8ms/step - loss: 0.5534 - accuracy: 0.8483 - val_loss: 0.5900 - val_accuracy: 0.8324\n",
      "Epoch 65/100\n",
      "89/89 [==============================] - 1s 8ms/step - loss: 0.5532 - accuracy: 0.8413 - val_loss: 0.5867 - val_accuracy: 0.8324\n",
      "Epoch 66/100\n",
      "89/89 [==============================] - 1s 8ms/step - loss: 0.5523 - accuracy: 0.8469 - val_loss: 0.5873 - val_accuracy: 0.8324\n",
      "Epoch 67/100\n",
      "89/89 [==============================] - 1s 8ms/step - loss: 0.5547 - accuracy: 0.8441 - val_loss: 0.5980 - val_accuracy: 0.8101\n",
      "Epoch 68/100\n",
      "89/89 [==============================] - 1s 8ms/step - loss: 0.5516 - accuracy: 0.8329 - val_loss: 0.5878 - val_accuracy: 0.8212\n",
      "Epoch 69/100\n",
      "89/89 [==============================] - 1s 8ms/step - loss: 0.5484 - accuracy: 0.8371 - val_loss: 0.5863 - val_accuracy: 0.8268\n",
      "Epoch 70/100\n",
      "89/89 [==============================] - 1s 8ms/step - loss: 0.5458 - accuracy: 0.8441 - val_loss: 0.5863 - val_accuracy: 0.8324\n",
      "Epoch 71/100\n",
      "89/89 [==============================] - 1s 8ms/step - loss: 0.5468 - accuracy: 0.8413 - val_loss: 0.5873 - val_accuracy: 0.8212\n",
      "Epoch 72/100\n",
      "89/89 [==============================] - 1s 8ms/step - loss: 0.5460 - accuracy: 0.8399 - val_loss: 0.5886 - val_accuracy: 0.8045\n",
      "Epoch 73/100\n",
      "89/89 [==============================] - 1s 8ms/step - loss: 0.5451 - accuracy: 0.8287 - val_loss: 0.5843 - val_accuracy: 0.8268\n",
      "Epoch 74/100\n",
      "89/89 [==============================] - 1s 8ms/step - loss: 0.5461 - accuracy: 0.8455 - val_loss: 0.5848 - val_accuracy: 0.8324\n",
      "Epoch 75/100\n",
      "89/89 [==============================] - 1s 9ms/step - loss: 0.5447 - accuracy: 0.8413 - val_loss: 0.5854 - val_accuracy: 0.8212\n",
      "Epoch 76/100\n",
      "89/89 [==============================] - 1s 8ms/step - loss: 0.5421 - accuracy: 0.8455 - val_loss: 0.5849 - val_accuracy: 0.8324\n",
      "Epoch 77/100\n",
      "89/89 [==============================] - 1s 8ms/step - loss: 0.5408 - accuracy: 0.8399 - val_loss: 0.5910 - val_accuracy: 0.8045\n",
      "Epoch 78/100\n",
      "89/89 [==============================] - 1s 8ms/step - loss: 0.5426 - accuracy: 0.8385 - val_loss: 0.5771 - val_accuracy: 0.8324\n",
      "Epoch 79/100\n",
      "89/89 [==============================] - 1s 7ms/step - loss: 0.5421 - accuracy: 0.8399 - val_loss: 0.5826 - val_accuracy: 0.8156\n",
      "Epoch 80/100\n",
      "89/89 [==============================] - 1s 8ms/step - loss: 0.5383 - accuracy: 0.8399 - val_loss: 0.5770 - val_accuracy: 0.8324\n",
      "Epoch 81/100\n",
      "89/89 [==============================] - 1s 8ms/step - loss: 0.5409 - accuracy: 0.8483 - val_loss: 0.5803 - val_accuracy: 0.8324\n",
      "Epoch 82/100\n",
      "89/89 [==============================] - 1s 8ms/step - loss: 0.5444 - accuracy: 0.8427 - val_loss: 0.5833 - val_accuracy: 0.8156\n",
      "Epoch 83/100\n",
      "89/89 [==============================] - 1s 8ms/step - loss: 0.5373 - accuracy: 0.8357 - val_loss: 0.5753 - val_accuracy: 0.8324\n",
      "Epoch 84/100\n",
      "89/89 [==============================] - 1s 9ms/step - loss: 0.5370 - accuracy: 0.8399 - val_loss: 0.5801 - val_accuracy: 0.8324\n",
      "Epoch 85/100\n",
      "89/89 [==============================] - 1s 9ms/step - loss: 0.5388 - accuracy: 0.8441 - val_loss: 0.5792 - val_accuracy: 0.8212\n",
      "Epoch 86/100\n",
      "89/89 [==============================] - 1s 8ms/step - loss: 0.5363 - accuracy: 0.8455 - val_loss: 0.5820 - val_accuracy: 0.8268\n",
      "Epoch 87/100\n",
      "89/89 [==============================] - 1s 8ms/step - loss: 0.5377 - accuracy: 0.8343 - val_loss: 0.5850 - val_accuracy: 0.8156\n",
      "Epoch 88/100\n",
      "89/89 [==============================] - 1s 8ms/step - loss: 0.5340 - accuracy: 0.8455 - val_loss: 0.5794 - val_accuracy: 0.8212\n",
      "Epoch 89/100\n",
      "89/89 [==============================] - 1s 8ms/step - loss: 0.5370 - accuracy: 0.8399 - val_loss: 0.5794 - val_accuracy: 0.8268\n",
      "Epoch 90/100\n",
      "89/89 [==============================] - 1s 8ms/step - loss: 0.5394 - accuracy: 0.8357 - val_loss: 0.5734 - val_accuracy: 0.8324\n",
      "Epoch 91/100\n",
      "89/89 [==============================] - 1s 8ms/step - loss: 0.5359 - accuracy: 0.8469 - val_loss: 0.5754 - val_accuracy: 0.8324\n",
      "Epoch 92/100\n",
      "89/89 [==============================] - 1s 8ms/step - loss: 0.5344 - accuracy: 0.8399 - val_loss: 0.5762 - val_accuracy: 0.8268\n",
      "Epoch 93/100\n",
      "89/89 [==============================] - 1s 8ms/step - loss: 0.5330 - accuracy: 0.8413 - val_loss: 0.5725 - val_accuracy: 0.8268\n",
      "Epoch 94/100\n",
      "89/89 [==============================] - 1s 8ms/step - loss: 0.5351 - accuracy: 0.8441 - val_loss: 0.5743 - val_accuracy: 0.8324\n",
      "Epoch 95/100\n",
      "89/89 [==============================] - 1s 8ms/step - loss: 0.5350 - accuracy: 0.8357 - val_loss: 0.5803 - val_accuracy: 0.8212\n",
      "Epoch 96/100\n",
      "89/89 [==============================] - 1s 8ms/step - loss: 0.5341 - accuracy: 0.8427 - val_loss: 0.5742 - val_accuracy: 0.8324\n",
      "Epoch 97/100\n",
      "89/89 [==============================] - 1s 7ms/step - loss: 0.5356 - accuracy: 0.8371 - val_loss: 0.5785 - val_accuracy: 0.8156\n",
      "Epoch 98/100\n",
      "89/89 [==============================] - 1s 8ms/step - loss: 0.5356 - accuracy: 0.8385 - val_loss: 0.5739 - val_accuracy: 0.8268\n",
      "Epoch 99/100\n",
      "89/89 [==============================] - 1s 8ms/step - loss: 0.5303 - accuracy: 0.8469 - val_loss: 0.5738 - val_accuracy: 0.8212\n",
      "Epoch 100/100\n",
      "89/89 [==============================] - 1s 8ms/step - loss: 0.5298 - accuracy: 0.8469 - val_loss: 0.5683 - val_accuracy: 0.8324\n"
     ]
    }
   ],
   "source": [
    "# compilazione del modello\n",
    "titanic_model.compile(loss='binary_crossentropy', optimizer=keras.optimizers.Adam(0.0001), metrics=['accuracy'])\n",
    "\n",
    "# fit del modello per 100 epoche\n",
    "history = titanic_model.fit(X_train, y_train, \n",
    "                    validation_data=(X_val, y_val), \n",
    "                    batch_size=8, \n",
    "                    callbacks=[myCallback()],\n",
    "                    epochs=100)"
   ]
  },
  {
   "cell_type": "code",
   "execution_count": 15,
   "id": "c9a295f9",
   "metadata": {
    "execution": {
     "iopub.execute_input": "2023-11-10T04:54:29.249536Z",
     "iopub.status.busy": "2023-11-10T04:54:29.249157Z",
     "iopub.status.idle": "2023-11-10T04:54:29.788200Z",
     "shell.execute_reply": "2023-11-10T04:54:29.787284Z"
    },
    "papermill": {
     "duration": 0.638718,
     "end_time": "2023-11-10T04:54:29.790364",
     "exception": false,
     "start_time": "2023-11-10T04:54:29.151646",
     "status": "completed"
    },
    "tags": []
   },
   "outputs": [
    {
     "data": {
      "image/png": "[encoded data removed]",
      "text/plain": [
       "<Figure size 640x480 with 1 Axes>"
      ]
     },
     "metadata": {},
     "output_type": "display_data"
    },
    {
     "data": {
      "image/png": "[encoded data removed]",
      "text/plain": [
       "<Figure size 640x480 with 1 Axes>"
      ]
     },
     "metadata": {},
     "output_type": "display_data"
    }
   ],
   "source": [
    "plt.plot(history.history['loss'])\n",
    "plt.plot(history.history['val_loss'])\n",
    "plt.title(\"Model Loss\")\n",
    "plt.xlabel(\"Epoch\")\n",
    "plt.ylabel(\"Loss\")\n",
    "plt.legend(['train', 'val'], loc='upper right')\n",
    "plt.show()\n",
    "\n",
    "plt.plot(history.history['accuracy'])\n",
    "plt.plot(history.history['val_accuracy'])\n",
    "plt.title(\"Model Accuracy\")\n",
    "plt.xlabel(\"Epoch\")\n",
    "plt.ylabel(\"Accuracy\")\n",
    "plt.legend(['train', 'val'], loc='upper right')\n",
    "plt.show()"
   ]
  },
  {
   "cell_type": "markdown",
   "id": "25dbfc3f",
   "metadata": {
    "papermill": {
     "duration": 0.100349,
     "end_time": "2023-11-10T04:54:29.988634",
     "exception": false,
     "start_time": "2023-11-10T04:54:29.888285",
     "status": "completed"
    },
    "tags": []
   },
   "source": [
    "## Preparazione dei dati di test"
   ]
  },
  {
   "cell_type": "code",
   "execution_count": 16,
   "id": "3df0d1be",
   "metadata": {
    "execution": {
     "iopub.execute_input": "2023-11-10T04:54:30.188186Z",
     "iopub.status.busy": "2023-11-10T04:54:30.187450Z",
     "iopub.status.idle": "2023-11-10T04:54:30.209547Z",
     "shell.execute_reply": "2023-11-10T04:54:30.208728Z"
    },
    "papermill": {
     "duration": 0.124235,
     "end_time": "2023-11-10T04:54:30.211456",
     "exception": false,
     "start_time": "2023-11-10T04:54:30.087221",
     "status": "completed"
    },
    "tags": []
   },
   "outputs": [
    {
     "data": {
      "text/html": [
       "<div>\n",
       "<style scoped>\n",
       "    .dataframe tbody tr th:only-of-type {\n",
       "        vertical-align: middle;\n",
       "    }\n",
       "\n",
       "    .dataframe tbody tr th {\n",
       "        vertical-align: top;\n",
       "    }\n",
       "\n",
       "    .dataframe thead th {\n",
       "        text-align: right;\n",
       "    }\n",
       "</style>\n",
       "<table border=\"1\" class=\"dataframe\">\n",
       "  <thead>\n",
       "    <tr style=\"text-align: right;\">\n",
       "      <th></th>\n",
       "      <th>PassengerId</th>\n",
       "      <th>Pclass</th>\n",
       "      <th>Name</th>\n",
       "      <th>Sex</th>\n",
       "      <th>Age</th>\n",
       "      <th>SibSp</th>\n",
       "      <th>Parch</th>\n",
       "      <th>Ticket</th>\n",
       "      <th>Fare</th>\n",
       "      <th>Cabin</th>\n",
       "      <th>Embarked</th>\n",
       "    </tr>\n",
       "  </thead>\n",
       "  <tbody>\n",
       "    <tr>\n",
       "      <th>0</th>\n",
       "      <td>892</td>\n",
       "      <td>3</td>\n",
       "      <td>Kelly, Mr. James</td>\n",
       "      <td>male</td>\n",
       "      <td>34.5</td>\n",
       "      <td>0</td>\n",
       "      <td>0</td>\n",
       "      <td>330911</td>\n",
       "      <td>7.8292</td>\n",
       "      <td>NaN</td>\n",
       "      <td>Q</td>\n",
       "    </tr>\n",
       "    <tr>\n",
       "      <th>1</th>\n",
       "      <td>893</td>\n",
       "      <td>3</td>\n",
       "      <td>Wilkes, Mrs. James (Ellen Needs)</td>\n",
       "      <td>female</td>\n",
       "      <td>47.0</td>\n",
       "      <td>1</td>\n",
       "      <td>0</td>\n",
       "      <td>363272</td>\n",
       "      <td>7.0000</td>\n",
       "      <td>NaN</td>\n",
       "      <td>S</td>\n",
       "    </tr>\n",
       "    <tr>\n",
       "      <th>2</th>\n",
       "      <td>894</td>\n",
       "      <td>2</td>\n",
       "      <td>Myles, Mr. Thomas Francis</td>\n",
       "      <td>male</td>\n",
       "      <td>62.0</td>\n",
       "      <td>0</td>\n",
       "      <td>0</td>\n",
       "      <td>240276</td>\n",
       "      <td>9.6875</td>\n",
       "      <td>NaN</td>\n",
       "      <td>Q</td>\n",
       "    </tr>\n",
       "    <tr>\n",
       "      <th>3</th>\n",
       "      <td>895</td>\n",
       "      <td>3</td>\n",
       "      <td>Wirz, Mr. Albert</td>\n",
       "      <td>male</td>\n",
       "      <td>27.0</td>\n",
       "      <td>0</td>\n",
       "      <td>0</td>\n",
       "      <td>315154</td>\n",
       "      <td>8.6625</td>\n",
       "      <td>NaN</td>\n",
       "      <td>S</td>\n",
       "    </tr>\n",
       "    <tr>\n",
       "      <th>4</th>\n",
       "      <td>896</td>\n",
       "      <td>3</td>\n",
       "      <td>Hirvonen, Mrs. Alexander (Helga E Lindqvist)</td>\n",
       "      <td>female</td>\n",
       "      <td>22.0</td>\n",
       "      <td>1</td>\n",
       "      <td>1</td>\n",
       "      <td>3101298</td>\n",
       "      <td>12.2875</td>\n",
       "      <td>NaN</td>\n",
       "      <td>S</td>\n",
       "    </tr>\n",
       "  </tbody>\n",
       "</table>\n",
       "</div>"
      ],
      "text/plain": [
       "   PassengerId  Pclass                                          Name     Sex  \\\n",
       "0          892       3                              Kelly, Mr. James    male   \n",
       "1          893       3              Wilkes, Mrs. James (Ellen Needs)  female   \n",
       "2          894       2                     Myles, Mr. Thomas Francis    male   \n",
       "3          895       3                              Wirz, Mr. Albert    male   \n",
       "4          896       3  Hirvonen, Mrs. Alexander (Helga E Lindqvist)  female   \n",
       "\n",
       "    Age  SibSp  Parch   Ticket     Fare Cabin Embarked  \n",
       "0  34.5      0      0   330911   7.8292   NaN        Q  \n",
       "1  47.0      1      0   363272   7.0000   NaN        S  \n",
       "2  62.0      0      0   240276   9.6875   NaN        Q  \n",
       "3  27.0      0      0   315154   8.6625   NaN        S  \n",
       "4  22.0      1      1  3101298  12.2875   NaN        S  "
      ]
     },
     "execution_count": 16,
     "metadata": {},
     "output_type": "execute_result"
    }
   ],
   "source": [
    "test_data = pd.read_csv('/kaggle/input/titanic/test.csv')\n",
    "test_data.head()"
   ]
  },
  {
   "cell_type": "code",
   "execution_count": 17,
   "id": "e0efed6a",
   "metadata": {
    "execution": {
     "iopub.execute_input": "2023-11-10T04:54:30.410005Z",
     "iopub.status.busy": "2023-11-10T04:54:30.409286Z",
     "iopub.status.idle": "2023-11-10T04:54:30.427591Z",
     "shell.execute_reply": "2023-11-10T04:54:30.426492Z"
    },
    "papermill": {
     "duration": 0.120117,
     "end_time": "2023-11-10T04:54:30.429912",
     "exception": false,
     "start_time": "2023-11-10T04:54:30.309795",
     "status": "completed"
    },
    "tags": []
   },
   "outputs": [
    {
     "data": {
      "text/html": [
       "<div>\n",
       "<style scoped>\n",
       "    .dataframe tbody tr th:only-of-type {\n",
       "        vertical-align: middle;\n",
       "    }\n",
       "\n",
       "    .dataframe tbody tr th {\n",
       "        vertical-align: top;\n",
       "    }\n",
       "\n",
       "    .dataframe thead th {\n",
       "        text-align: right;\n",
       "    }\n",
       "</style>\n",
       "<table border=\"1\" class=\"dataframe\">\n",
       "  <thead>\n",
       "    <tr style=\"text-align: right;\">\n",
       "      <th></th>\n",
       "      <th>Pclass</th>\n",
       "      <th>Sex</th>\n",
       "      <th>Age</th>\n",
       "      <th>SibSp</th>\n",
       "      <th>Parch</th>\n",
       "      <th>Fare</th>\n",
       "      <th>Embarked</th>\n",
       "    </tr>\n",
       "  </thead>\n",
       "  <tbody>\n",
       "    <tr>\n",
       "      <th>0</th>\n",
       "      <td>3</td>\n",
       "      <td>male</td>\n",
       "      <td>34.5</td>\n",
       "      <td>0</td>\n",
       "      <td>0</td>\n",
       "      <td>7.8292</td>\n",
       "      <td>Q</td>\n",
       "    </tr>\n",
       "    <tr>\n",
       "      <th>1</th>\n",
       "      <td>3</td>\n",
       "      <td>female</td>\n",
       "      <td>47.0</td>\n",
       "      <td>1</td>\n",
       "      <td>0</td>\n",
       "      <td>7.0000</td>\n",
       "      <td>S</td>\n",
       "    </tr>\n",
       "    <tr>\n",
       "      <th>2</th>\n",
       "      <td>2</td>\n",
       "      <td>male</td>\n",
       "      <td>62.0</td>\n",
       "      <td>0</td>\n",
       "      <td>0</td>\n",
       "      <td>9.6875</td>\n",
       "      <td>Q</td>\n",
       "    </tr>\n",
       "    <tr>\n",
       "      <th>3</th>\n",
       "      <td>3</td>\n",
       "      <td>male</td>\n",
       "      <td>27.0</td>\n",
       "      <td>0</td>\n",
       "      <td>0</td>\n",
       "      <td>8.6625</td>\n",
       "      <td>S</td>\n",
       "    </tr>\n",
       "    <tr>\n",
       "      <th>4</th>\n",
       "      <td>3</td>\n",
       "      <td>female</td>\n",
       "      <td>22.0</td>\n",
       "      <td>1</td>\n",
       "      <td>1</td>\n",
       "      <td>12.2875</td>\n",
       "      <td>S</td>\n",
       "    </tr>\n",
       "    <tr>\n",
       "      <th>...</th>\n",
       "      <td>...</td>\n",
       "      <td>...</td>\n",
       "      <td>...</td>\n",
       "      <td>...</td>\n",
       "      <td>...</td>\n",
       "      <td>...</td>\n",
       "      <td>...</td>\n",
       "    </tr>\n",
       "    <tr>\n",
       "      <th>413</th>\n",
       "      <td>3</td>\n",
       "      <td>male</td>\n",
       "      <td>NaN</td>\n",
       "      <td>0</td>\n",
       "      <td>0</td>\n",
       "      <td>8.0500</td>\n",
       "      <td>S</td>\n",
       "    </tr>\n",
       "    <tr>\n",
       "      <th>414</th>\n",
       "      <td>1</td>\n",
       "      <td>female</td>\n",
       "      <td>39.0</td>\n",
       "      <td>0</td>\n",
       "      <td>0</td>\n",
       "      <td>108.9000</td>\n",
       "      <td>C</td>\n",
       "    </tr>\n",
       "    <tr>\n",
       "      <th>415</th>\n",
       "      <td>3</td>\n",
       "      <td>male</td>\n",
       "      <td>38.5</td>\n",
       "      <td>0</td>\n",
       "      <td>0</td>\n",
       "      <td>7.2500</td>\n",
       "      <td>S</td>\n",
       "    </tr>\n",
       "    <tr>\n",
       "      <th>416</th>\n",
       "      <td>3</td>\n",
       "      <td>male</td>\n",
       "      <td>NaN</td>\n",
       "      <td>0</td>\n",
       "      <td>0</td>\n",
       "      <td>8.0500</td>\n",
       "      <td>S</td>\n",
       "    </tr>\n",
       "    <tr>\n",
       "      <th>417</th>\n",
       "      <td>3</td>\n",
       "      <td>male</td>\n",
       "      <td>NaN</td>\n",
       "      <td>1</td>\n",
       "      <td>1</td>\n",
       "      <td>22.3583</td>\n",
       "      <td>C</td>\n",
       "    </tr>\n",
       "  </tbody>\n",
       "</table>\n",
       "<p>418 rows × 7 columns</p>\n",
       "</div>"
      ],
      "text/plain": [
       "     Pclass     Sex   Age  SibSp  Parch      Fare Embarked\n",
       "0         3    male  34.5      0      0    7.8292        Q\n",
       "1         3  female  47.0      1      0    7.0000        S\n",
       "2         2    male  62.0      0      0    9.6875        Q\n",
       "3         3    male  27.0      0      0    8.6625        S\n",
       "4         3  female  22.0      1      1   12.2875        S\n",
       "..      ...     ...   ...    ...    ...       ...      ...\n",
       "413       3    male   NaN      0      0    8.0500        S\n",
       "414       1  female  39.0      0      0  108.9000        C\n",
       "415       3    male  38.5      0      0    7.2500        S\n",
       "416       3    male   NaN      0      0    8.0500        S\n",
       "417       3    male   NaN      1      1   22.3583        C\n",
       "\n",
       "[418 rows x 7 columns]"
      ]
     },
     "execution_count": 17,
     "metadata": {},
     "output_type": "execute_result"
    }
   ],
   "source": [
    "# preparazione dei dati di test\n",
    "test_data.drop(['Name', 'Ticket', 'PassengerId', 'Cabin'], axis=1, inplace=True)\n",
    "test_data"
   ]
  },
  {
   "cell_type": "code",
   "execution_count": 18,
   "id": "35583166",
   "metadata": {
    "execution": {
     "iopub.execute_input": "2023-11-10T04:54:30.630886Z",
     "iopub.status.busy": "2023-11-10T04:54:30.630030Z",
     "iopub.status.idle": "2023-11-10T04:54:30.643891Z",
     "shell.execute_reply": "2023-11-10T04:54:30.642883Z"
    },
    "papermill": {
     "duration": 0.116582,
     "end_time": "2023-11-10T04:54:30.646167",
     "exception": false,
     "start_time": "2023-11-10T04:54:30.529585",
     "status": "completed"
    },
    "tags": []
   },
   "outputs": [
    {
     "data": {
      "text/html": [
       "<div>\n",
       "<style scoped>\n",
       "    .dataframe tbody tr th:only-of-type {\n",
       "        vertical-align: middle;\n",
       "    }\n",
       "\n",
       "    .dataframe tbody tr th {\n",
       "        vertical-align: top;\n",
       "    }\n",
       "\n",
       "    .dataframe thead th {\n",
       "        text-align: right;\n",
       "    }\n",
       "</style>\n",
       "<table border=\"1\" class=\"dataframe\">\n",
       "  <thead>\n",
       "    <tr style=\"text-align: right;\">\n",
       "      <th></th>\n",
       "      <th>Pclass</th>\n",
       "      <th>Sex</th>\n",
       "      <th>Age</th>\n",
       "      <th>SibSp</th>\n",
       "      <th>Parch</th>\n",
       "      <th>Fare</th>\n",
       "      <th>Embarked</th>\n",
       "    </tr>\n",
       "  </thead>\n",
       "  <tbody>\n",
       "    <tr>\n",
       "      <th>0</th>\n",
       "      <td>3</td>\n",
       "      <td>male</td>\n",
       "      <td>34.5</td>\n",
       "      <td>0</td>\n",
       "      <td>0</td>\n",
       "      <td>7.8292</td>\n",
       "      <td>Q</td>\n",
       "    </tr>\n",
       "    <tr>\n",
       "      <th>1</th>\n",
       "      <td>3</td>\n",
       "      <td>female</td>\n",
       "      <td>47.0</td>\n",
       "      <td>1</td>\n",
       "      <td>0</td>\n",
       "      <td>7.0000</td>\n",
       "      <td>S</td>\n",
       "    </tr>\n",
       "    <tr>\n",
       "      <th>2</th>\n",
       "      <td>2</td>\n",
       "      <td>male</td>\n",
       "      <td>62.0</td>\n",
       "      <td>0</td>\n",
       "      <td>0</td>\n",
       "      <td>9.6875</td>\n",
       "      <td>Q</td>\n",
       "    </tr>\n",
       "    <tr>\n",
       "      <th>3</th>\n",
       "      <td>3</td>\n",
       "      <td>male</td>\n",
       "      <td>27.0</td>\n",
       "      <td>0</td>\n",
       "      <td>0</td>\n",
       "      <td>8.6625</td>\n",
       "      <td>S</td>\n",
       "    </tr>\n",
       "    <tr>\n",
       "      <th>4</th>\n",
       "      <td>3</td>\n",
       "      <td>female</td>\n",
       "      <td>22.0</td>\n",
       "      <td>1</td>\n",
       "      <td>1</td>\n",
       "      <td>12.2875</td>\n",
       "      <td>S</td>\n",
       "    </tr>\n",
       "  </tbody>\n",
       "</table>\n",
       "</div>"
      ],
      "text/plain": [
       "   Pclass     Sex   Age  SibSp  Parch     Fare Embarked\n",
       "0       3    male  34.5      0      0   7.8292        Q\n",
       "1       3  female  47.0      1      0   7.0000        S\n",
       "2       2    male  62.0      0      0   9.6875        Q\n",
       "3       3    male  27.0      0      0   8.6625        S\n",
       "4       3  female  22.0      1      1  12.2875        S"
      ]
     },
     "execution_count": 18,
     "metadata": {},
     "output_type": "execute_result"
    }
   ],
   "source": [
    "test_data.head()"
   ]
  },
  {
   "cell_type": "markdown",
   "id": "1d56b3a1",
   "metadata": {
    "papermill": {
     "duration": 0.099059,
     "end_time": "2023-11-10T04:54:30.844538",
     "exception": false,
     "start_time": "2023-11-10T04:54:30.745479",
     "status": "completed"
    },
    "tags": []
   },
   "source": [
    "Sottoporre i dati di test alla stessa pipeline dei dati di addestramento"
   ]
  },
  {
   "cell_type": "code",
   "execution_count": 19,
   "id": "d2bbf3b3",
   "metadata": {
    "execution": {
     "iopub.execute_input": "2023-11-10T04:54:31.050049Z",
     "iopub.status.busy": "2023-11-10T04:54:31.049172Z",
     "iopub.status.idle": "2023-11-10T04:54:31.063729Z",
     "shell.execute_reply": "2023-11-10T04:54:31.062968Z"
    },
    "papermill": {
     "duration": 0.11857,
     "end_time": "2023-11-10T04:54:31.065701",
     "exception": false,
     "start_time": "2023-11-10T04:54:30.947131",
     "status": "completed"
    },
    "tags": []
   },
   "outputs": [
    {
     "data": {
      "text/plain": [
       "(418, 12)"
      ]
     },
     "execution_count": 19,
     "metadata": {},
     "output_type": "execute_result"
    }
   ],
   "source": [
    "test_pipelined = full_pipeline.transform(test_data)\n",
    "test_pipelined.shape"
   ]
  },
  {
   "cell_type": "code",
   "execution_count": 20,
   "id": "640fb768",
   "metadata": {
    "execution": {
     "iopub.execute_input": "2023-11-10T04:54:31.267557Z",
     "iopub.status.busy": "2023-11-10T04:54:31.266908Z",
     "iopub.status.idle": "2023-11-10T04:54:31.272925Z",
     "shell.execute_reply": "2023-11-10T04:54:31.272140Z"
    },
    "papermill": {
     "duration": 0.109201,
     "end_time": "2023-11-10T04:54:31.274932",
     "exception": false,
     "start_time": "2023-11-10T04:54:31.165731",
     "status": "completed"
    },
    "tags": []
   },
   "outputs": [
    {
     "data": {
      "text/plain": [
       "(array([-0.56573646,  0.43279337, -0.47367361, -0.50244517,  0.        ,\n",
       "         0.        ,  1.        ,  0.        ,  1.        ,  0.        ,\n",
       "         0.        ,  1.        ]),\n",
       " array([ 0.39488658, -0.4745452 , -0.47367361, -0.49078316,  0.        ,\n",
       "         0.        ,  1.        ,  0.        ,  1.        ,  0.        ,\n",
       "         1.        ,  0.        ]))"
      ]
     },
     "execution_count": 20,
     "metadata": {},
     "output_type": "execute_result"
    }
   ],
   "source": [
    "X[0], test_pipelined[0]"
   ]
  },
  {
   "cell_type": "code",
   "execution_count": 21,
   "id": "8303635d",
   "metadata": {
    "execution": {
     "iopub.execute_input": "2023-11-10T04:54:31.476427Z",
     "iopub.status.busy": "2023-11-10T04:54:31.475832Z",
     "iopub.status.idle": "2023-11-10T04:54:31.481601Z",
     "shell.execute_reply": "2023-11-10T04:54:31.480817Z"
    },
    "papermill": {
     "duration": 0.108325,
     "end_time": "2023-11-10T04:54:31.483515",
     "exception": false,
     "start_time": "2023-11-10T04:54:31.375190",
     "status": "completed"
    },
    "tags": []
   },
   "outputs": [
    {
     "data": {
      "text/plain": [
       "array([ 0.39488658, -0.4745452 , -0.47367361, -0.49078316,  0.        ,\n",
       "        0.        ,  1.        ,  0.        ,  1.        ,  0.        ,\n",
       "        1.        ,  0.        ])"
      ]
     },
     "execution_count": 21,
     "metadata": {},
     "output_type": "execute_result"
    }
   ],
   "source": [
    "test_pipelined[0]"
   ]
  },
  {
   "cell_type": "code",
   "execution_count": 22,
   "id": "e3a15e06",
   "metadata": {
    "execution": {
     "iopub.execute_input": "2023-11-10T04:54:31.684783Z",
     "iopub.status.busy": "2023-11-10T04:54:31.684212Z",
     "iopub.status.idle": "2023-11-10T04:54:31.906130Z",
     "shell.execute_reply": "2023-11-10T04:54:31.904893Z"
    },
    "papermill": {
     "duration": 0.325354,
     "end_time": "2023-11-10T04:54:31.908410",
     "exception": false,
     "start_time": "2023-11-10T04:54:31.583056",
     "status": "completed"
    },
    "tags": []
   },
   "outputs": [
    {
     "name": "stdout",
     "output_type": "stream",
     "text": [
      "14/14 [==============================] - 0s 2ms/step\n"
     ]
    },
    {
     "data": {
      "text/plain": [
       "array([[0.11917171],\n",
       "       [0.53185284],\n",
       "       [0.16798739],\n",
       "       [0.1208823 ],\n",
       "       [0.4181256 ],\n",
       "       [0.21019496],\n",
       "       [0.6812977 ],\n",
       "       [0.16066888],\n",
       "       [0.64519924],\n",
       "       [0.12332714]], dtype=float32)"
      ]
     },
     "execution_count": 22,
     "metadata": {},
     "output_type": "execute_result"
    }
   ],
   "source": [
    "preds = titanic_model.predict(test_pipelined)\n",
    "preds[:10]"
   ]
  },
  {
   "cell_type": "code",
   "execution_count": 23,
   "id": "04df668a",
   "metadata": {
    "execution": {
     "iopub.execute_input": "2023-11-10T04:54:32.111678Z",
     "iopub.status.busy": "2023-11-10T04:54:32.111277Z",
     "iopub.status.idle": "2023-11-10T04:54:32.318788Z",
     "shell.execute_reply": "2023-11-10T04:54:32.317609Z"
    },
    "papermill": {
     "duration": 0.311048,
     "end_time": "2023-11-10T04:54:32.321019",
     "exception": false,
     "start_time": "2023-11-10T04:54:32.009971",
     "status": "completed"
    },
    "tags": []
   },
   "outputs": [
    {
     "name": "stdout",
     "output_type": "stream",
     "text": [
      "23/23 [==============================] - 0s 3ms/step\n"
     ]
    },
    {
     "data": {
      "text/plain": [
       "array([[0.21721287],\n",
       "       [0.1368122 ],\n",
       "       [0.11337026],\n",
       "       [0.11864515],\n",
       "       [0.21085133],\n",
       "       [0.3179304 ],\n",
       "       [0.216834  ],\n",
       "       [0.17290756],\n",
       "       [0.11924157],\n",
       "       [0.2854475 ]], dtype=float32)"
      ]
     },
     "execution_count": 23,
     "metadata": {},
     "output_type": "execute_result"
    }
   ],
   "source": [
    "train_pred = titanic_model.predict(X_train)\n",
    "train_pred[:10]"
   ]
  },
  {
   "cell_type": "code",
   "execution_count": 24,
   "id": "4d31c23c",
   "metadata": {
    "execution": {
     "iopub.execute_input": "2023-11-10T04:54:32.525330Z",
     "iopub.status.busy": "2023-11-10T04:54:32.524913Z",
     "iopub.status.idle": "2023-11-10T04:54:32.540434Z",
     "shell.execute_reply": "2023-11-10T04:54:32.539468Z"
    },
    "papermill": {
     "duration": 0.120854,
     "end_time": "2023-11-10T04:54:32.542369",
     "exception": false,
     "start_time": "2023-11-10T04:54:32.421515",
     "status": "completed"
    },
    "tags": []
   },
   "outputs": [
    {
     "data": {
      "text/html": [
       "<div>\n",
       "<style scoped>\n",
       "    .dataframe tbody tr th:only-of-type {\n",
       "        vertical-align: middle;\n",
       "    }\n",
       "\n",
       "    .dataframe tbody tr th {\n",
       "        vertical-align: top;\n",
       "    }\n",
       "\n",
       "    .dataframe thead th {\n",
       "        text-align: right;\n",
       "    }\n",
       "</style>\n",
       "<table border=\"1\" class=\"dataframe\">\n",
       "  <thead>\n",
       "    <tr style=\"text-align: right;\">\n",
       "      <th></th>\n",
       "      <th>PassengerId</th>\n",
       "      <th>Survived</th>\n",
       "    </tr>\n",
       "  </thead>\n",
       "  <tbody>\n",
       "    <tr>\n",
       "      <th>0</th>\n",
       "      <td>892</td>\n",
       "      <td>0</td>\n",
       "    </tr>\n",
       "    <tr>\n",
       "      <th>1</th>\n",
       "      <td>893</td>\n",
       "      <td>1</td>\n",
       "    </tr>\n",
       "    <tr>\n",
       "      <th>2</th>\n",
       "      <td>894</td>\n",
       "      <td>0</td>\n",
       "    </tr>\n",
       "    <tr>\n",
       "      <th>3</th>\n",
       "      <td>895</td>\n",
       "      <td>0</td>\n",
       "    </tr>\n",
       "    <tr>\n",
       "      <th>4</th>\n",
       "      <td>896</td>\n",
       "      <td>0</td>\n",
       "    </tr>\n",
       "    <tr>\n",
       "      <th>5</th>\n",
       "      <td>897</td>\n",
       "      <td>0</td>\n",
       "    </tr>\n",
       "    <tr>\n",
       "      <th>6</th>\n",
       "      <td>898</td>\n",
       "      <td>1</td>\n",
       "    </tr>\n",
       "    <tr>\n",
       "      <th>7</th>\n",
       "      <td>899</td>\n",
       "      <td>0</td>\n",
       "    </tr>\n",
       "    <tr>\n",
       "      <th>8</th>\n",
       "      <td>900</td>\n",
       "      <td>1</td>\n",
       "    </tr>\n",
       "    <tr>\n",
       "      <th>9</th>\n",
       "      <td>901</td>\n",
       "      <td>0</td>\n",
       "    </tr>\n",
       "    <tr>\n",
       "      <th>10</th>\n",
       "      <td>902</td>\n",
       "      <td>0</td>\n",
       "    </tr>\n",
       "    <tr>\n",
       "      <th>11</th>\n",
       "      <td>903</td>\n",
       "      <td>0</td>\n",
       "    </tr>\n",
       "    <tr>\n",
       "      <th>12</th>\n",
       "      <td>904</td>\n",
       "      <td>1</td>\n",
       "    </tr>\n",
       "    <tr>\n",
       "      <th>13</th>\n",
       "      <td>905</td>\n",
       "      <td>0</td>\n",
       "    </tr>\n",
       "    <tr>\n",
       "      <th>14</th>\n",
       "      <td>906</td>\n",
       "      <td>1</td>\n",
       "    </tr>\n",
       "    <tr>\n",
       "      <th>15</th>\n",
       "      <td>907</td>\n",
       "      <td>1</td>\n",
       "    </tr>\n",
       "    <tr>\n",
       "      <th>16</th>\n",
       "      <td>908</td>\n",
       "      <td>0</td>\n",
       "    </tr>\n",
       "    <tr>\n",
       "      <th>17</th>\n",
       "      <td>909</td>\n",
       "      <td>0</td>\n",
       "    </tr>\n",
       "    <tr>\n",
       "      <th>18</th>\n",
       "      <td>910</td>\n",
       "      <td>0</td>\n",
       "    </tr>\n",
       "    <tr>\n",
       "      <th>19</th>\n",
       "      <td>911</td>\n",
       "      <td>1</td>\n",
       "    </tr>\n",
       "  </tbody>\n",
       "</table>\n",
       "</div>"
      ],
      "text/plain": [
       "    PassengerId  Survived\n",
       "0           892         0\n",
       "1           893         1\n",
       "2           894         0\n",
       "3           895         0\n",
       "4           896         0\n",
       "5           897         0\n",
       "6           898         1\n",
       "7           899         0\n",
       "8           900         1\n",
       "9           901         0\n",
       "10          902         0\n",
       "11          903         0\n",
       "12          904         1\n",
       "13          905         0\n",
       "14          906         1\n",
       "15          907         1\n",
       "16          908         0\n",
       "17          909         0\n",
       "18          910         0\n",
       "19          911         1"
      ]
     },
     "execution_count": 24,
     "metadata": {},
     "output_type": "execute_result"
    }
   ],
   "source": [
    "submission = pd.read_csv('../input/titanic/gender_submission.csv')\n",
    "submission['Survived'] = [0 if pred < 0.5 else 1 for pred in preds]\n",
    "submission[:20]"
   ]
  },
  {
   "cell_type": "code",
   "execution_count": 25,
   "id": "3f51df51",
   "metadata": {
    "execution": {
     "iopub.execute_input": "2023-11-10T04:54:32.745426Z",
     "iopub.status.busy": "2023-11-10T04:54:32.744770Z",
     "iopub.status.idle": "2023-11-10T04:54:32.754010Z",
     "shell.execute_reply": "2023-11-10T04:54:32.753234Z"
    },
    "papermill": {
     "duration": 0.112721,
     "end_time": "2023-11-10T04:54:32.756000",
     "exception": false,
     "start_time": "2023-11-10T04:54:32.643279",
     "status": "completed"
    },
    "tags": []
   },
   "outputs": [
    {
     "data": {
      "text/html": [
       "<a href='submission.csv' target='_blank'>submission.csv</a><br>"
      ],
      "text/plain": [
       "/kaggle/working/submission.csv"
      ]
     },
     "execution_count": 25,
     "metadata": {},
     "output_type": "execute_result"
    }
   ],
   "source": [
    "from IPython.display import FileLink\n",
    "\n",
    "\n",
    "submission.to_csv('submission.csv',index=False)\n",
    "FileLink(r'submission.csv')"
   ]
  }
 ],
 "metadata": {
  "kernelspec": {
   "display_name": "Python 3",
   "language": "python",
   "name": "python3"
  },
  "language_info": {
   "codemirror_mode": {
    "name": "ipython",
    "version": 3
   },
   "file_extension": ".py",
   "mimetype": "text/x-python",
   "name": "python",
   "nbconvert_exporter": "python",
   "pygments_lexer": "ipython3",
   "version": "3.10.12"
  },
  "papermill": {
   "default_parameters": {},
   "duration": 94.659287,
   "end_time": "2023-11-10T04:54:34.382207",
   "environment_variables": {},
   "exception": null,
   "input_path": "__notebook__.ipynb",
   "output_path": "__notebook__.ipynb",
   "parameters": {},
   "start_time": "2023-11-10T04:52:59.722920",
   "version": "2.4.0"
  }
 },
 "nbformat": 4,
 "nbformat_minor": 5
}
